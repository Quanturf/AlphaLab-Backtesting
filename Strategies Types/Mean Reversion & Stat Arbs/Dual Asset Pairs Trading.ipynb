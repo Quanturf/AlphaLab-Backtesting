{
 "cells": [
  {
   "cell_type": "code",
   "execution_count": 11,
   "id": "75f591c7",
   "metadata": {},
   "outputs": [
    {
     "name": "stdout",
     "output_type": "stream",
     "text": [
      "[*********************100%***********************]  1 of 1 completed\n",
      "[*********************100%***********************]  1 of 1 completed\n",
      "Correlation: 0.2663030392805105\n",
      "Sell Natural Gas, Buy Crude Oil\n"
     ]
    },
    {
     "name": "stderr",
     "output_type": "stream",
     "text": [
      "C:\\Users\\NARENDRA\\anaconda3\\lib\\site-packages\\numpy\\lib\\function_base.py:2683: RuntimeWarning: Degrees of freedom <= 0 for slice\n",
      "  c = cov(x, y, rowvar, dtype=dtype)\n",
      "C:\\Users\\NARENDRA\\anaconda3\\lib\\site-packages\\numpy\\lib\\function_base.py:2542: RuntimeWarning: divide by zero encountered in true_divide\n",
      "  c *= np.true_divide(1, fact)\n"
     ]
    }
   ],
   "source": [
    "import yfinance as yf\n",
    "\n",
    "# Define the symbols for the two futures contracts\n",
    "symbol1 = 'CL=F'  # Crude oil futures\n",
    "symbol2 = 'NG=F'  # Natural gas futures\n",
    "\n",
    "# Download historical data for the two futures contracts\n",
    "data1 = yf.download(symbol1, start='2022-01-01', end='2023-01-01')\n",
    "data2 = yf.download(symbol2, start='2022-01-01', end='2023-01-01')\n",
    "\n",
    "# Merge the two datasets based on the Date column\n",
    "merged_data = data1[['Adj Close']].merge(data2[['Adj Close']], on='Date', suffixes=('_CL', '_NG'))\n",
    "\n",
    "# Calculate the correlation between the two futures contracts\n",
    "correlation = merged_data['Adj Close_CL'].corr(merged_data['Adj Close_NG'])\n",
    "print('Correlation:', correlation)\n",
    "\n",
    "# Implement trading strategy based on price discrepancies\n",
    "threshold = 0.8  # Correlation threshold for initiating trades\n",
    "qty = 1  # Number of contracts to trade\n",
    "\n",
    "for i in range(1, len(merged_data)):\n",
    "    prev_corr = merged_data['Adj Close_CL'].iloc[i-1:].corr(merged_data['Adj Close_NG'].iloc[i-1:])\n",
    "    curr_corr = merged_data['Adj Close_CL'].iloc[i:].corr(merged_data['Adj Close_NG'].iloc[i:])\n",
    "    \n",
    "    if prev_corr > threshold and curr_corr <= threshold:\n",
    "        # Sell crude oil and buy natural gas\n",
    "        print('Sell Crude Oil, Buy Natural Gas')\n",
    "        # Implement your trading logic here\n",
    "        \n",
    "    elif prev_corr < -threshold and curr_corr >= -threshold:\n",
    "        # Sell natural gas and buy crude oil\n",
    "        print('Sell Natural Gas, Buy Crude Oil')\n",
    "        # Implement your trading logic here\n"
   ]
  }
 ],
 "metadata": {
  "kernelspec": {
   "display_name": "Python 3 (ipykernel)",
   "language": "python",
   "name": "python3"
  },
  "language_info": {
   "codemirror_mode": {
    "name": "ipython",
    "version": 3
   },
   "file_extension": ".py",
   "mimetype": "text/x-python",
   "name": "python",
   "nbconvert_exporter": "python",
   "pygments_lexer": "ipython3",
   "version": "3.9.12"
  }
 },
 "nbformat": 4,
 "nbformat_minor": 5
}
