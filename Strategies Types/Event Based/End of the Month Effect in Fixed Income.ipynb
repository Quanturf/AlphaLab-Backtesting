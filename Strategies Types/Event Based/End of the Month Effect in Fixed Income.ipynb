{
 "cells": [
  {
   "cell_type": "markdown",
   "id": "831d4c8d",
   "metadata": {},
   "source": [
    "Bond prices tend to rise towards the end of the month, particularly in the last few trading days, and then fall at the beginning of the new month. "
   ]
  },
  {
   "cell_type": "code",
   "execution_count": 1,
   "id": "6d9a94e0",
   "metadata": {},
   "outputs": [
    {
     "name": "stdout",
     "output_type": "stream",
     "text": [
      "[*********************100%***********************]  1 of 1 completed\n",
      "Average price change between the last few trading days of the month and the first few trading days of the new month: -0.0008290802643305606\n"
     ]
    }
   ],
   "source": [
    "import yfinance as yf\n",
    "import pandas as pd\n",
    "\n",
    "# Define the bond ticker\n",
    "bond_ticker = 'AGG'\n",
    "\n",
    "# Define the start and end dates for the data\n",
    "start_date = '2020-01-01'\n",
    "end_date = '2022-04-29'\n",
    "\n",
    "# Download the bond prices from Yahoo Finance\n",
    "bond_prices = yf.download(bond_ticker, start=start_date, end=end_date)['Adj Close']\n",
    "\n",
    "# Extract the last trading days of the month\n",
    "month_end_dates = pd.date_range(start=start_date, end=end_date, freq='BM')\n",
    "month_end_prices = bond_prices[bond_prices.index.isin(month_end_dates)]\n",
    "\n",
    "# Extract the first trading days of the new month\n",
    "month_start_dates = pd.date_range(start=start_date, end=end_date, freq='BMS')\n",
    "month_start_prices = bond_prices[bond_prices.index.isin(month_start_dates)]\n",
    "\n",
    "# Calculate the average price change between the last few trading days of the month and the first few trading days of the new month\n",
    "price_change = (month_start_prices.mean() - month_end_prices.mean()) / month_end_prices.mean()\n",
    "\n",
    "# Print the average price change\n",
    "print('Average price change between the last few trading days of the month and the first few trading days of the new month:', price_change)\n"
   ]
  },
  {
   "cell_type": "code",
   "execution_count": null,
   "id": "ce42e2b1",
   "metadata": {},
   "outputs": [],
   "source": []
  }
 ],
 "metadata": {
  "kernelspec": {
   "display_name": "Python 3 (ipykernel)",
   "language": "python",
   "name": "python3"
  },
  "language_info": {
   "codemirror_mode": {
    "name": "ipython",
    "version": 3
   },
   "file_extension": ".py",
   "mimetype": "text/x-python",
   "name": "python",
   "nbconvert_exporter": "python",
   "pygments_lexer": "ipython3",
   "version": "3.9.12"
  }
 },
 "nbformat": 4,
 "nbformat_minor": 5
}
