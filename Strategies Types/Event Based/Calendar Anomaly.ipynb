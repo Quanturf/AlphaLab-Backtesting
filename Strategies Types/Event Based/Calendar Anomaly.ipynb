{
 "cells": [
  {
   "cell_type": "markdown",
   "id": "e15d9636",
   "metadata": {},
   "source": [
    "Trading based on recurring patterns in the calendar"
   ]
  },
  {
   "cell_type": "code",
   "execution_count": 1,
   "id": "c1d42543",
   "metadata": {},
   "outputs": [
    {
     "name": "stdout",
     "output_type": "stream",
     "text": [
      "[*********************100%***********************]  1 of 1 completed\n",
      "Selling AAPL on 2023-05-24\n"
     ]
    },
    {
     "data": {
      "text/plain": [
       "False"
      ]
     },
     "execution_count": 1,
     "metadata": {},
     "output_type": "execute_result"
    }
   ],
   "source": [
    "import yfinance as yf\n",
    "import pandas as pd\n",
    "import datetime as dt\n",
    "\n",
    "# Define the calendar pattern to look for\n",
    "pattern = {'month': 3, 'day': 15}  # March 15th\n",
    "\n",
    "# Define the stock to trade\n",
    "ticker = 'AAPL'\n",
    "\n",
    "# Retrieve the historical stock data\n",
    "stock_data = yf.download(ticker, start='2015-01-01', end=dt.date.today().strftime('%Y-%m-%d'))\n",
    "\n",
    "# Define a function to check if the current date matches the pattern\n",
    "def check_calendar_pattern(pattern):\n",
    "    today = dt.date.today()\n",
    "    if today.month == pattern['month'] and today.day == pattern['day']:\n",
    "        return True\n",
    "    else:\n",
    "        return False\n",
    "\n",
    "# Define a function to buy or sell based on the calendar pattern\n",
    "def buy_or_sell(stock_data):\n",
    "    # Check if today matches the pattern\n",
    "    if check_calendar_pattern(pattern):\n",
    "        # Buy the stock\n",
    "        print(f\"Buying {ticker} on {dt.date.today()}\")\n",
    "        return True\n",
    "    else:\n",
    "        # Sell the stock\n",
    "        print(f\"Selling {ticker} on {dt.date.today()}\")\n",
    "        return False\n",
    "\n",
    "# Call the buy_or_sell function\n",
    "buy_or_sell(stock_data)\n"
   ]
  },
  {
   "cell_type": "code",
   "execution_count": null,
   "id": "dc1df725",
   "metadata": {},
   "outputs": [],
   "source": []
  }
 ],
 "metadata": {
  "kernelspec": {
   "display_name": "Python 3 (ipykernel)",
   "language": "python",
   "name": "python3"
  },
  "language_info": {
   "codemirror_mode": {
    "name": "ipython",
    "version": 3
   },
   "file_extension": ".py",
   "mimetype": "text/x-python",
   "name": "python",
   "nbconvert_exporter": "python",
   "pygments_lexer": "ipython3",
   "version": "3.9.12"
  }
 },
 "nbformat": 4,
 "nbformat_minor": 5
}
