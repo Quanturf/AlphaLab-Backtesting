{
 "cells": [
  {
   "cell_type": "code",
   "execution_count": 5,
   "id": "2dc34529",
   "metadata": {},
   "outputs": [
    {
     "name": "stdout",
     "output_type": "stream",
     "text": [
      "[*********************100%***********************]  4 of 4 completed\n",
      "Top Performers: ['AAPL', 'MSFT', 'GOOGL', 'AMZN']\n",
      "Hurst Exponents:\n",
      "AAPL (0.4315792719648689, 1.7163093141858017, [[10, 17, 31, 56, 100, 177, 251], [4.1478207990323, 5.639633297961444, 8.181449214824337, 11.376735618651649, 13.349134928912562, 15.63781224251958, 16.381200330652334]])\n",
      "MSFT (0.5043952975228106, 1.2027130645656368, [[10, 17, 31, 56, 100, 177, 251], [3.6841736361539072, 4.9951086072599, 7.138341236408887, 9.48814786382339, 12.614053759508458, 14.986687700583362, 19.998322282653593]])\n",
      "GOOGL (0.5379111408485109, 1.0564398373861414, [[10, 17, 31, 56, 100, 177, 251], [3.6783158311282693, 4.78801173997258, 7.092549613050241, 8.920171297389729, 12.293263112800023, 15.054735757166762, 23.486043415438438]])\n",
      "AMZN (0.49091033816703245, 1.4344614367662152, [[10, 17, 31, 56, 100, 177, 251], [4.173616720476554, 5.510916008805357, 8.715932875759744, 11.585397556889554, 13.119739089760643, 15.69838146120449, 23.21445036956258]])\n"
     ]
    }
   ],
   "source": [
    "import yfinance as yf\n",
    "import numpy as np\n",
    "from hurst import compute_Hc\n",
    "import pandas as pd\n",
    "# Define the list of stocks\n",
    "stocks = ['AAPL', 'MSFT', 'GOOGL', 'AMZN']\n",
    "\n",
    "# Define the period for calculating past returns\n",
    "period = 30  # 30 days\n",
    "\n",
    "# Download historical data for all stocks\n",
    "data = yf.download(stocks, start='2022-01-01', end='2023-01-01')\n",
    "\n",
    "# Calculate past returns for each stock\n",
    "returns = {}\n",
    "for stock in stocks:\n",
    "    returns[stock] = (data['Close'][stock] - data['Close'][stock].shift(period)) / data['Close'][stock].shift(period)\n",
    "\n",
    "# Combine past returns into a single DataFrame\n",
    "returns_df = pd.concat(returns, axis=1)\n",
    "\n",
    "# Rank stocks based on mean past returns in descending order\n",
    "sorted_stocks = returns_df.mean(axis=0).sort_values(ascending=False).index.tolist()\n",
    "\n",
    "# Calculate Hurst exponent for each stock\n",
    "hurst_exponents = {}\n",
    "for stock in sorted_stocks:\n",
    "    series = np.log(data['Close'][stock].values)\n",
    "    hurst_exponents[stock] = compute_Hc(series)\n",
    "\n",
    "# Take long positions in the top performers based on Hurst exponent\n",
    "num_top = 5  # Number of top performers to take long positions\n",
    "top_performers = sorted_stocks[:num_top]\n",
    "print(\"Top Performers:\", top_performers)\n",
    "\n",
    "# Print Hurst exponent for the top performers\n",
    "print(\"Hurst Exponents:\")\n",
    "for stock in top_performers:\n",
    "    print(stock, hurst_exponents[stock])\n"
   ]
  },
  {
   "cell_type": "code",
   "execution_count": null,
   "id": "2eb500b4",
   "metadata": {},
   "outputs": [],
   "source": []
  }
 ],
 "metadata": {
  "kernelspec": {
   "display_name": "Python 3 (ipykernel)",
   "language": "python",
   "name": "python3"
  },
  "language_info": {
   "codemirror_mode": {
    "name": "ipython",
    "version": 3
   },
   "file_extension": ".py",
   "mimetype": "text/x-python",
   "name": "python",
   "nbconvert_exporter": "python",
   "pygments_lexer": "ipython3",
   "version": "3.9.12"
  }
 },
 "nbformat": 4,
 "nbformat_minor": 5
}
