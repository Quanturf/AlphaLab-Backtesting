{
 "cells": [
  {
   "cell_type": "markdown",
   "id": "c5b470f3",
   "metadata": {},
   "source": [
    "Strategy is based on trading around a company's earnings announcement. It involves analyzing the company's financial results and making trades based on the expected impact on the stock price."
   ]
  },
  {
   "cell_type": "code",
   "execution_count": 1,
   "id": "15eca50c",
   "metadata": {},
   "outputs": [
    {
     "name": "stdout",
     "output_type": "stream",
     "text": [
      "[*********************100%***********************]  1 of 1 completed\n",
      "Based on the expected impact on the stock price of 2.44%, the trade decision is to sell.\n"
     ]
    }
   ],
   "source": [
    "import yfinance as yf\n",
    "import pandas as pd\n",
    "\n",
    "# Define the stock ticker symbol and date range for analysis\n",
    "ticker = 'AAPL'\n",
    "start_date = '2021-01-01'\n",
    "end_date = '2021-12-31'\n",
    "\n",
    "# Retrieve the stock price data\n",
    "stock_data = yf.download(ticker, start=start_date, end=end_date)\n",
    "\n",
    "# Define a function to calculate the expected impact on the stock price\n",
    "def calculate_expected_impact(stock_data):\n",
    "    # Calculate the average daily return for the past 30 days\n",
    "    past_30_days = stock_data.iloc[-30:]\n",
    "    average_return = past_30_days['Adj Close'].pct_change().mean()\n",
    "\n",
    "    # Calculate the standard deviation of the daily returns for the past 30 days\n",
    "    return_std_dev = past_30_days['Adj Close'].pct_change().std()\n",
    "\n",
    "    # Calculate the expected impact on the stock price based on the past 30 days of data\n",
    "    expected_impact = abs(average_return) + return_std_dev\n",
    "\n",
    "    return expected_impact\n",
    "\n",
    "# Calculate the expected impact on the stock price\n",
    "expected_impact = calculate_expected_impact(stock_data)\n",
    "\n",
    "# Define a function to buy or sell based on the actual impact on the stock price\n",
    "def buy_or_sell(stock_data, expected_impact):\n",
    "    # Get the latest stock price data\n",
    "    latest_data = stock_data.iloc[-1]\n",
    "\n",
    "    # Calculate the actual impact on the stock price\n",
    "    actual_impact = abs(latest_data['Close'] - latest_data['Open']) / latest_data['Open']\n",
    "\n",
    "    # Buy if the actual impact is greater than the expected impact, sell otherwise\n",
    "    if actual_impact > expected_impact:\n",
    "        return 'Buy'\n",
    "    else:\n",
    "        return 'Sell'\n",
    "\n",
    "# Buy or sell based on the actual impact on the stock price\n",
    "trade_decision = buy_or_sell(stock_data, expected_impact)\n",
    "\n",
    "print(f\"Based on the expected impact on the stock price of {expected_impact:.2%}, the trade decision is to {trade_decision.lower()}.\")\n"
   ]
  },
  {
   "cell_type": "code",
   "execution_count": null,
   "id": "2a63ab3a",
   "metadata": {},
   "outputs": [],
   "source": []
  }
 ],
 "metadata": {
  "kernelspec": {
   "display_name": "Python 3 (ipykernel)",
   "language": "python",
   "name": "python3"
  },
  "language_info": {
   "codemirror_mode": {
    "name": "ipython",
    "version": 3
   },
   "file_extension": ".py",
   "mimetype": "text/x-python",
   "name": "python",
   "nbconvert_exporter": "python",
   "pygments_lexer": "ipython3",
   "version": "3.9.12"
  }
 },
 "nbformat": 4,
 "nbformat_minor": 5
}
