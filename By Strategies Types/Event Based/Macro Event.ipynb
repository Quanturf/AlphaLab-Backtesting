{
 "cells": [
  {
   "cell_type": "markdown",
   "id": "06119397",
   "metadata": {},
   "source": [
    "Strategy is based on trading around significant macroeconomic events, such as changes in interest rates or major policy announcements. It involves analyzing the impact of these events on the market and making trades accordingly."
   ]
  },
  {
   "cell_type": "code",
   "execution_count": 2,
   "id": "208a8994",
   "metadata": {},
   "outputs": [
    {
     "name": "stdout",
     "output_type": "stream",
     "text": [
      "[*********************100%***********************]  1 of 1 completed\n",
      "Performance Metrics:\n",
      "====================\n",
      "Cumulative Returns:\n",
      "Date\n",
      "2022-12-30    1.076238\n",
      "Name: Cumulative Returns, dtype: float64\n",
      "Total Return: 0.07623815677075929\n"
     ]
    }
   ],
   "source": [
    "import yfinance as yf\n",
    "import pandas as pd\n",
    "\n",
    "# Define the ticker symbol and the desired time range\n",
    "ticker = 'AAPL'\n",
    "start_date = '2022-01-01'\n",
    "end_date = '2022-12-31'\n",
    "\n",
    "# Fetch the historical stock price data from Yahoo Finance\n",
    "data = yf.download(ticker, start=start_date, end=end_date)\n",
    "\n",
    "# Define the macroeconomic event dates\n",
    "event_dates = ['2022-03-15', '2022-06-15', '2022-09-15', '2022-12-15']\n",
    "\n",
    "# Define the impact window around the event (in days)\n",
    "impact_window = 5\n",
    "\n",
    "# Initialize a variable to store the trading signals\n",
    "trading_signals = []\n",
    "\n",
    "# Iterate over the event dates\n",
    "for event_date in event_dates:\n",
    "    event_date = pd.to_datetime(event_date)\n",
    "    \n",
    "    # Define the start and end dates for the impact window\n",
    "    start_window = event_date - pd.DateOffset(days=impact_window)\n",
    "    end_window = event_date + pd.DateOffset(days=impact_window)\n",
    "    \n",
    "    # Check if the impact window is within the available data range\n",
    "    if start_window >= data.index.min() and end_window <= data.index.max():\n",
    "        # Calculate the average return during the impact window\n",
    "        avg_return = data.loc[start_window:end_window]['Close'].pct_change().mean()\n",
    "        \n",
    "        # Generate trading signals based on the average return\n",
    "        if avg_return > 0:\n",
    "            trading_signals.append(1)  # Buy signal\n",
    "        else:\n",
    "            trading_signals.append(-1)  # Sell signal\n",
    "\n",
    "# Apply the trading signals to calculate the strategy returns\n",
    "data['Strategy'] = 0\n",
    "data.loc[data.index.isin(event_dates), 'Strategy'] = trading_signals\n",
    "\n",
    "# Calculate the cumulative returns of the strategy\n",
    "data['Cumulative Returns'] = (1 + data['Strategy'] * data['Close'].pct_change()).cumprod()\n",
    "\n",
    "# Print the performance metrics\n",
    "print(\"Performance Metrics:\")\n",
    "print(\"====================\")\n",
    "print(\"Cumulative Returns:\")\n",
    "print(data['Cumulative Returns'].tail(1))\n",
    "print(\"Total Return:\", data['Cumulative Returns'].iloc[-1] - 1)\n"
   ]
  },
  {
   "cell_type": "code",
   "execution_count": null,
   "id": "681ae7f7",
   "metadata": {},
   "outputs": [],
   "source": []
  }
 ],
 "metadata": {
  "kernelspec": {
   "display_name": "Python 3 (ipykernel)",
   "language": "python",
   "name": "python3"
  },
  "language_info": {
   "codemirror_mode": {
    "name": "ipython",
    "version": 3
   },
   "file_extension": ".py",
   "mimetype": "text/x-python",
   "name": "python",
   "nbconvert_exporter": "python",
   "pygments_lexer": "ipython3",
   "version": "3.9.12"
  }
 },
 "nbformat": 4,
 "nbformat_minor": 5
}
