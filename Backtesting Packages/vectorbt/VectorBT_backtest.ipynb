{
 "cells": [
  {
   "cell_type": "markdown",
   "id": "640231b9-44ae-432f-94bc-61ab595ffc00",
   "metadata": {},
   "source": [
    "https://github.com/polakowo/vectorbt\n",
    "https://github.com/search?p=1&q=vectorbt&type=Repositories\n",
    "https://vectorbt.dev/api/\n",
    "https://vectorbt.dev/api/portfolio/orders/"
   ]
  },
  {
   "cell_type": "code",
   "execution_count": 3,
   "id": "4d40a7a1-04bc-4ff9-8be2-979eda019b18",
   "metadata": {},
   "outputs": [],
   "source": [
    "import vectorbt as vbt"
   ]
  },
  {
   "cell_type": "code",
   "execution_count": 4,
   "id": "c992efab-61a3-45d0-8c83-c7a745f26e54",
   "metadata": {},
   "outputs": [],
   "source": [
    "price = vbt.YFData.download('BTC-USD').get('Close')"
   ]
  },
  {
   "cell_type": "code",
   "execution_count": 13,
   "id": "515b2f21-5b93-4ef1-9b50-fbd292824312",
   "metadata": {},
   "outputs": [],
   "source": [
    "import numpy as np\n",
    "import pandas as pd\n",
    "import vectorbt as vbt"
   ]
  },
  {
   "cell_type": "code",
   "execution_count": 14,
   "id": "bf727695-9a08-43f0-a384-fcd1d95555e0",
   "metadata": {},
   "outputs": [],
   "source": [
    "price_close = vbt.YFData.download('BTC-USD').get('Close')"
   ]
  },
  {
   "cell_type": "code",
   "execution_count": 15,
   "id": "f949b888-9b87-4ef1-ac0b-db2e8bd39b28",
   "metadata": {},
   "outputs": [],
   "source": [
    "rsi = vbt.RSI.run(price_close, window=20, short_name='rsi')\n",
    "\n",
    "num = 20\n",
    "entry_points = np.linspace(10, 30, num=num, dtype=int)\n",
    "exit_points = np.linspace(70, 90, num=num, dtype=int)\n",
    "grid = np.array(np.meshgrid(entry_points, exit_points)).T.reshape(-1, 2)\n",
    "\n",
    "entries = rsi.rsi_crossed_below(list(grid[:, [0]]))\n",
    "exits = rsi.rsi_crossed_above(list(grid[:, 1]))"
   ]
  },
  {
   "cell_type": "code",
   "execution_count": 19,
   "id": "5cde1871-bc03-457f-a26d-a360b67b572a",
   "metadata": {},
   "outputs": [
    {
     "name": "stderr",
     "output_type": "stream",
     "text": [
      "C:\\Users\\tatsa\\anaconda3\\lib\\site-packages\\vectorbt\\generic\\stats_builder.py:396: UserWarning:\n",
      "\n",
      "Metric 'sharpe_ratio' requires frequency to be set\n",
      "\n",
      "C:\\Users\\tatsa\\anaconda3\\lib\\site-packages\\vectorbt\\generic\\stats_builder.py:396: UserWarning:\n",
      "\n",
      "Metric 'calmar_ratio' requires frequency to be set\n",
      "\n",
      "C:\\Users\\tatsa\\anaconda3\\lib\\site-packages\\vectorbt\\generic\\stats_builder.py:396: UserWarning:\n",
      "\n",
      "Metric 'omega_ratio' requires frequency to be set\n",
      "\n",
      "C:\\Users\\tatsa\\anaconda3\\lib\\site-packages\\vectorbt\\generic\\stats_builder.py:396: UserWarning:\n",
      "\n",
      "Metric 'sortino_ratio' requires frequency to be set\n",
      "\n"
     ]
    },
    {
     "name": "stdout",
     "output_type": "stream",
     "text": [
      "Start                         2014-09-17 00:00:00+00:00\n",
      "End                           2022-11-27 00:00:00+00:00\n",
      "Period                                             2993\n",
      "Start Value                                       100.0\n",
      "End Value                                    120.143991\n",
      "Total Return [%]                              20.143991\n",
      "Benchmark Return [%]                        3527.252646\n",
      "Max Gross Exposure [%]                             90.0\n",
      "Total Fees Paid                                     0.0\n",
      "Max Drawdown [%]                              56.404726\n",
      "Max Drawdown Duration                       1269.688889\n",
      "Total Trades                                       4.68\n",
      "Total Closed Trades                               4.125\n",
      "Total Open Trades                                 0.555\n",
      "Open Trade PnL                               -53.682801\n",
      "Win Rate [%]                                    72.0862\n",
      "Best Trade [%]                                  56.2591\n",
      "Worst Trade [%]                              -19.186798\n",
      "Avg Winning Trade [%]                         33.082219\n",
      "Avg Losing Trade [%]                         -23.424652\n",
      "Avg Winning Trade Duration                   126.756657\n",
      "Avg Losing Trade Duration                    200.167165\n",
      "Profit Factor                                       inf\n",
      "Expectancy                                    23.242907\n",
      "Name: agg_func_mean, dtype: object\n"
     ]
    },
    {
     "name": "stderr",
     "output_type": "stream",
     "text": [
      "C:\\Users\\tatsa\\AppData\\Local\\Temp\\ipykernel_4860\\2439329165.py:2: UserWarning:\n",
      "\n",
      "Object has multiple columns. Aggregating using <function mean at 0x0000022EF73D14C0>. Pass column to select a single column/group.\n",
      "\n"
     ]
    }
   ],
   "source": [
    "pf = vbt.Portfolio.from_signals(price_close, entries, exits)\n",
    "print(pf.stats())"
   ]
  }
 ],
 "metadata": {
  "kernelspec": {
   "display_name": "Python 3 (ipykernel)",
   "language": "python",
   "name": "python3"
  },
  "language_info": {
   "codemirror_mode": {
    "name": "ipython",
    "version": 3
   },
   "file_extension": ".py",
   "mimetype": "text/x-python",
   "name": "python",
   "nbconvert_exporter": "python",
   "pygments_lexer": "ipython3",
   "version": "3.9.13"
  }
 },
 "nbformat": 4,
 "nbformat_minor": 5
}
